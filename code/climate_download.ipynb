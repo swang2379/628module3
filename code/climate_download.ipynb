{
 "cells": [
  {
   "cell_type": "code",
   "execution_count": 9,
   "id": "90df0f56-40f8-46d9-9711-3f03dd649c48",
   "metadata": {},
   "outputs": [],
   "source": [
    "import requests\n",
    "import os"
   ]
  },
  {
   "cell_type": "code",
   "execution_count": 10,
   "id": "3fecc259-f624-4fd4-ae09-bfc4662a58b9",
   "metadata": {},
   "outputs": [],
   "source": [
    "def getdata1(stationid, year):\n",
    "\n",
    "    url = f'https://www.ncei.noaa.gov/access/services/data/v1?dataset=local-climatological-data-v2&dataTypes=HourlyDewPointTemperature' \\\n",
    "          f'&dataTypes=HourlyDryBulbTemperature' \\\n",
    "          f'&dataTypes=HourlyPrecipitation' \\\n",
    "          f'&dataTypes=HourlyPresentWeatherType' \\\n",
    "          f'&dataTypes=HourlyPressureChange' \\\n",
    "          f'&dataTypes=HourlyPressureTendency' \\\n",
    "          f'&dataTypes=HourlyRelativeHumidity' \\\n",
    "          f'&dataTypes=HourlySkyConditions' \\\n",
    "          f'&dataTypes=HourlySeaLevelPressure' \\\n",
    "          f'&dataTypes=HourlyStationPressure' \\\n",
    "          f'&dataTypes=HourlyVisibility' \\\n",
    "          f'&dataTypes=HourlyWetBulbTemperature' \\\n",
    "          f'&dataTypes=HourlyWindDirection' \\\n",
    "          f'&dataTypes=HourlyWindGustSpeed' \\\n",
    "          f'&dataTypes=HourlyWindSpeed' \\\n",
    "          f'&stations={stationid}&startDate={year}-11-01T00:00:00z&endDate={year + 1}-01-31T23:59:59z'\n",
    "\n",
    "    \n",
    "    response = requests.get(url)\n",
    "    if response.status_code==200:\n",
    "        with open(f\"{stationid}_{year}z.csv\", 'wb') as file:\n",
    "            file.write(response.content)\n",
    "    else:\n",
    "        print(response.status_code)"
   ]
  },
  {
   "cell_type": "code",
   "execution_count": 11,
   "id": "670569c2-e425-49d0-8269-11d8f63fee41",
   "metadata": {},
   "outputs": [
    {
     "name": "stdout",
     "output_type": "stream",
     "text": [
      "502\n"
     ]
    }
   ],
   "source": [
    "getdata1('USW00013839', 2023)"
   ]
  },
  {
   "cell_type": "code",
   "execution_count": 7,
   "id": "e14bc621-7990-4c65-b9a5-acb4e86affd8",
   "metadata": {},
   "outputs": [],
   "source": [
    "def getdata(stationid, year):\n",
    "\n",
    "    folder_name = f\"{year}_data\"\n",
    "\n",
    "    os.makedirs(folder_name, exist_ok=True) \n",
    "\n",
    "    url = f'https://www.ncei.noaa.gov/access/services/data/v1?dataset=local-climatological-data-v2&dataTypes=HourlyDewPointTemperature' \\\n",
    "          f'&dataTypes=HourlyDryBulbTemperature' \\\n",
    "          f'&dataTypes=HourlyPrecipitation' \\\n",
    "          f'&dataTypes=HourlyPresentWeatherType' \\\n",
    "          f'&dataTypes=HourlyPressureChange' \\\n",
    "          f'&dataTypes=HourlyPressureTendency' \\\n",
    "          f'&dataTypes=HourlyRelativeHumidity' \\\n",
    "          f'&dataTypes=HourlySkyConditions' \\\n",
    "          f'&dataTypes=HourlySeaLevelPressure' \\\n",
    "          f'&dataTypes=HourlyStationPressure' \\\n",
    "          f'&dataTypes=HourlyVisibility' \\\n",
    "          f'&dataTypes=HourlyWetBulbTemperature' \\\n",
    "          f'&dataTypes=HourlyWindDirection' \\\n",
    "          f'&dataTypes=HourlyWindGustSpeed' \\\n",
    "          f'&dataTypes=HourlyWindSpeed' \\\n",
    "          f'&stations={stationid}&startDate={year}-11-01T00:00:00z&endDate={year + 1}-01-31T23:59:59z'\n",
    "\n",
    "    \n",
    "    response = requests.get(url)\n",
    "    if response.status_code==200:\n",
    "        file_path = os.path.join(folder_name, f\"{stationid}_{year}.csv\")\n",
    "        with open(file_path, 'wb') as file:\n",
    "            file.write(response.content)\n",
    "    else:\n",
    "        print(response.status_code, stationid)"
   ]
  },
  {
   "cell_type": "code",
   "execution_count": 69,
   "id": "81776994-c5ce-44e6-91f6-9a104ef4006d",
   "metadata": {},
   "outputs": [],
   "source": [
    "getdata1('USW00023050', 2023)"
   ]
  },
  {
   "cell_type": "code",
   "execution_count": 1,
   "id": "e882f558-220a-4bc7-8895-37c5ba587f91",
   "metadata": {},
   "outputs": [
    {
     "data": {
      "text/plain": [
       "0      USW00023174\n",
       "1      USW00094846\n",
       "2      USW00094789\n",
       "3      USW00003888\n",
       "4      USW00023234\n",
       "          ...     \n",
       "347    USW00025624\n",
       "348    USW00094893\n",
       "349    USW00025704\n",
       "350    USW00026410\n",
       "351    USW00025338\n",
       "Name: station_id, Length: 352, dtype: object"
      ]
     },
     "execution_count": 1,
     "metadata": {},
     "output_type": "execute_result"
    }
   ],
   "source": [
    "import pandas as pd\n",
    "\n",
    "df = pd.read_csv('closest.csv')\n",
    "df['station_id']"
   ]
  },
  {
   "cell_type": "code",
   "execution_count": 8,
   "id": "d37dd843-c884-4bd4-a7e7-4ae176ad7795",
   "metadata": {},
   "outputs": [
    {
     "data": {
      "text/plain": [
       "array(['USW00026616', 'USW00094725', 'USW00025501', 'USW00027408',\n",
       "       'USW00094928', 'USW00025338', 'USW00025624', 'USW00094893',\n",
       "       'USW00025704', 'USW00026410'], dtype=object)"
      ]
     },
     "execution_count": 8,
     "metadata": {},
     "output_type": "execute_result"
    }
   ],
   "source": [
    "df['station_id'].unique()[330: 340]"
   ]
  },
  {
   "cell_type": "code",
   "execution_count": 5,
   "id": "a4b0d129-7782-49c5-8aa6-e915cdd022d7",
   "metadata": {},
   "outputs": [
    {
     "name": "stdout",
     "output_type": "stream",
     "text": [
      "USW00023174\n",
      "USW00094846\n",
      "USW00094789\n",
      "USW00003888\n",
      "USW00023234\n",
      "USW00014734\n",
      "USW00003927\n",
      "USW00023169\n",
      "USW00012815\n",
      "USW00003017\n",
      "USW00093738\n",
      "USW00014732\n",
      "USW00012839\n",
      "USW00024233\n",
      "USW00023183\n",
      "USW00054704\n",
      "USW00013739\n",
      "USW00013881\n",
      "USW00012960\n",
      "USW00013743\n",
      "USW00094847\n",
      "USW00014922\n",
      "USW00024127\n",
      "USW00012849\n",
      "USW00014819\n",
      "USW00093721\n",
      "USW00023188\n",
      "USW00013994\n",
      "USW00022521\n",
      "USW00024229\n",
      "USW00012916\n",
      "USW00012842\n",
      "USW00013897\n",
      "USW00053855\n",
      "USW00013904\n",
      "USW00013722\n",
      "USW00014762\n",
      "USW00012921\n",
      "USW00003947\n",
      "USW00093232\n",
      "USW00023230\n",
      "USW00093184\n",
      "USW00013893\n",
      "USW00004853\n",
      "USW00012918\n",
      "USW00013960\n",
      "USW00053842\n",
      "USW00023050\n",
      "USW00014821\n",
      "USW00014839\n",
      "USW00023160\n",
      "USW00053860\n",
      "USW00004724\n",
      "USW00014740\n",
      "USW00026451\n",
      "USW00003954\n",
      "USW00022516\n",
      "USW00093225\n",
      "USW00023152\n",
      "USW00013880\n",
      "USW00004908\n",
      "USW00012844\n",
      "USW00093821\n",
      "USW00023185\n",
      "USW00054752\n",
      "USW00023044\n",
      "USW00013737\n",
      "USW00013740\n",
      "USW00003822\n",
      "USW00023129\n",
      "USW00013876\n",
      "USW00012894\n",
      "USW00021510\n",
      "USW00014735\n",
      "USW00000264\n",
      "USW00094745\n",
      "USW00003102\n",
      "USW00014771\n",
      "USW00053939\n",
      "USW00014933\n",
      "USW00000240\n",
      "USW00094704\n",
      "USW00093815\n",
      "USW00024157\n",
      "USW00013968\n",
      "USW00064709\n",
      "USW00093037\n",
      "USW00014837\n",
      "USW00013925\n",
      "USW00014710\n",
      "USW00013891\n",
      "USW00014742\n",
      "USW00003104\n",
      "USW00023190\n",
      "USW00022526\n",
      "USW00013886\n",
      "USW00012836\n",
      "USW00093820\n",
      "USW00013899\n",
      "USW00000325\n",
      "USW00012871\n",
      "USW00013723\n",
      "USW00024090\n",
      "USW00023259\n",
      "USW00003812\n",
      "USW00012834\n",
      "USW00012854\n",
      "USW00014895\n",
      "USW00014606\n",
      "USW00053867\n",
      "USW00014711\n",
      "USW00093736\n",
      "USW00000204\n",
      "USW00003856\n",
      "USW00023097\n",
      "USW00013882\n",
      "USW00023167\n",
      "USW00024166\n",
      "USW00004825\n",
      "USW00023049\n",
      "USW00014827\n",
      "USW00000149\n",
      "USW00003024\n",
      "USW00023231\n",
      "USW00014848\n",
      "USW00024217\n",
      "USW00026411\n",
      "USW00024033\n",
      "USW00012816\n",
      "USC00397666\n",
      "USW00014990\n",
      "USW00014914\n",
      "USW00004789\n",
      "USW00024285\n",
      "USW00013748\n",
      "USW00004781\n",
      "USW00013741\n",
      "USW00024132\n",
      "USW00004919\n",
      "USW00014939\n",
      "USW00000349\n",
      "USW00014737\n",
      "USW00013838\n",
      "USW00003978\n",
      "USW00023063\n",
      "USW00023213\n",
      "USW00012838\n",
      "USW00013970\n",
      "USW00003940\n",
      "USW00012984\n",
      "USW00014925\n",
      "USW00014836\n",
      "USW00024153\n",
      "USW00014777\n",
      "USW00000375\n",
      "USW00013866\n",
      "USW00094071\n",
      "USW00093741\n",
      "USW00000158\n",
      "USW00054791\n",
      "USW00063837\n",
      "USW00003103\n",
      "USW00054824\n",
      "USW00024143\n",
      "USW00024225\n",
      "USW00014850\n",
      "USW00053128\n",
      "USW00094830\n",
      "USW00023195\n",
      "USW00003820\n",
      "USW00013877\n",
      "USW00004868\n",
      "USW00093058\n",
      "USW00093817\n",
      "USW00094815\n",
      "USW00024089\n",
      "USW00014792\n",
      "USW00023186\n",
      "USW00054831\n",
      "USW00093874\n",
      "USW00013895\n",
      "USW00094870\n",
      "USW00054778\n",
      "USW00025309\n",
      "USW00053905\n",
      "USW00053853\n",
      "USW00023155\n",
      "USW00093730\n",
      "USW00000438\n",
      "USW00012959\n",
      "USW00014748\n",
      "USW00013964\n",
      "USW00024145\n",
      "USW00014920\n",
      "USW00014923\n",
      "USW00023273\n",
      "USW00024146\n",
      "USW00014758\n",
      "USW00013959\n",
      "USW00024022\n",
      "USW00003059\n",
      "USW00014761\n",
      "USW00094822\n",
      "USW00013962\n",
      "USW00012812\n",
      "USW00093129\n",
      "USW00014917\n",
      "USW00024257\n",
      "USW00024126\n",
      "USW00014860\n",
      "USW00003712\n",
      "USW00003919\n",
      "USW00093005\n",
      "USW00003945\n",
      "USW00004862\n",
      "USW00024163\n",
      "USW00004780\n",
      "USW00023237\n",
      "USW00012957\n",
      "USW00013733\n",
      "USW00024230\n",
      "USW00023043\n",
      "USW00073805\n",
      "USW00024013\n",
      "USW00053978\n",
      "USW00014778\n",
      "USW00024174\n",
      "USW00012980\n",
      "USW00024135\n",
      "USW00003901\n",
      "USW00013942\n",
      "USW00013976\n",
      "USW00012907\n",
      "USW00014845\n",
      "USW00024283\n",
      "USW00014738\n",
      "USW00014991\n",
      "USW00023064\n",
      "USW00093795\n",
      "USW00024023\n",
      "USW00093720\n",
      "USW00014943\n",
      "USW00093842\n",
      "USW00094908\n",
      "USW00093075\n",
      "USW00093013\n",
      "USW00024121\n",
      "USW00013966\n",
      "USW00063801\n",
      "USW00094938\n",
      "USW00093915\n",
      "USW00063851\n",
      "USW00014851\n",
      "USW00000445\n",
      "USW00024156\n",
      "USW00014935\n",
      "USW00025325\n",
      "USW00094910\n",
      "USW00094025\n",
      "USW00003860\n",
      "USW00024284\n",
      "USW00094178\n",
      "USW00094129\n",
      "USW00003965\n",
      "USW00053883\n",
      "USW00003935\n",
      "USW00013839\n",
      "USW00053803\n",
      "USW00014841\n",
      "USW00094790\n",
      "USW00093706\n",
      "USW00003872\n",
      "USW00004895\n",
      "USW00000321\n",
      "USW00012917\n",
      "USW00013744\n",
      "USW00013987\n",
      "USW00024027\n",
      "USW00014926\n",
      "USW00053925\n",
      "USW00003181\n",
      "USW00013941\n",
      "USW00003968\n",
      "USW00024149\n",
      "USW00013869\n",
      "USW00094161\n",
      "USW00003741\n",
      "USW00004742\n",
      "USW00024028\n",
      "USW00094023\n",
      "USW00014840\n",
      "USW00093845\n",
      "USW00024243\n",
      "USW00022010\n",
      "USW00025333\n",
      "USW00013783\n",
      "USW00003056\n",
      "USW00003950\n",
      "USW00093753\n",
      "USW00023020\n",
      "USW00093989\n",
      "USW00024045\n",
      "USW00093007\n",
      "USW00094030\n",
      "USW00094239\n",
      "USW00000275\n",
      "USW00022534\n",
      "USW00003802\n",
      "USW00014905\n",
      "USW00014958\n",
      "USW00003960\n",
      "USW00014858\n",
      "USW00014919\n",
      "USW00026617\n",
      "USW00014604\n",
      "USW00024160\n",
      "USW00094038\n",
      "USW00094853\n",
      "USW00094849\n",
      "USW00014918\n",
      "USW00003972\n",
      "USW00094931\n",
      "USW00004869\n",
      "USW00053808\n",
      "USW00013971\n",
      "USW00026615\n",
      "USW00022525\n",
      "USW00004803\n",
      "USW00027502\n",
      "USW00025339\n",
      "USW00026616\n",
      "USW00094725\n",
      "USW00025501\n",
      "USW00027408\n",
      "USW00094928\n",
      "USW00025338\n",
      "USW00025624\n",
      "USW00094893\n",
      "USW00025704\n",
      "USW00026410\n"
     ]
    }
   ],
   "source": [
    "for id in df['station_id'].unique():\n",
    "    print(id)"
   ]
  },
  {
   "cell_type": "code",
   "execution_count": 14,
   "id": "dd55799a-7275-4955-afa9-e5f888c26ce8",
   "metadata": {},
   "outputs": [
    {
     "name": "stdout",
     "output_type": "stream",
     "text": [
      "503 USW00014732\n",
      "503 USW00023050\n",
      "503 USW00021510\n",
      "503 USW00003104\n",
      "503 USW00014990\n",
      "503 USW00014792\n",
      "503 USW00014991\n",
      "503 USW00014943\n",
      "502 USW00013839\n",
      "503 USW00026616\n",
      "503 USW00094725\n",
      "503 USW00094928\n"
     ]
    }
   ],
   "source": [
    "for id in df['station_id'].unique():\n",
    "    getdata(id, 2023)"
   ]
  },
  {
   "cell_type": "code",
   "execution_count": 25,
   "id": "c2707bcf-f87e-4762-b326-64204dadb676",
   "metadata": {},
   "outputs": [],
   "source": [
    "df_data = pd.read_excel('数据有问题的.xlsx', sheet_name='2018')"
   ]
  },
  {
   "cell_type": "code",
   "execution_count": 26,
   "id": "2c89f3df-8208-4b7a-826f-4ddc37bb8600",
   "metadata": {},
   "outputs": [
    {
     "data": {
      "text/html": [
       "<div>\n",
       "<style scoped>\n",
       "    .dataframe tbody tr th:only-of-type {\n",
       "        vertical-align: middle;\n",
       "    }\n",
       "\n",
       "    .dataframe tbody tr th {\n",
       "        vertical-align: top;\n",
       "    }\n",
       "\n",
       "    .dataframe thead th {\n",
       "        text-align: right;\n",
       "    }\n",
       "</style>\n",
       "<table border=\"1\" class=\"dataframe\">\n",
       "  <thead>\n",
       "    <tr style=\"text-align: right;\">\n",
       "      <th></th>\n",
       "      <th>Unnamed: 0</th>\n",
       "      <th>station_id</th>\n",
       "      <th>原因</th>\n",
       "      <th>处理</th>\n",
       "    </tr>\n",
       "  </thead>\n",
       "  <tbody>\n",
       "    <tr>\n",
       "      <th>0</th>\n",
       "      <td>1</td>\n",
       "      <td>USW00003856</td>\n",
       "      <td>下载原因</td>\n",
       "      <td>未完成</td>\n",
       "    </tr>\n",
       "    <tr>\n",
       "      <th>1</th>\n",
       "      <td>2</td>\n",
       "      <td>USW00012984</td>\n",
       "      <td>下载原因</td>\n",
       "      <td>未完成</td>\n",
       "    </tr>\n",
       "    <tr>\n",
       "      <th>2</th>\n",
       "      <td>3</td>\n",
       "      <td>USW00013866</td>\n",
       "      <td>下载原因</td>\n",
       "      <td>未完成</td>\n",
       "    </tr>\n",
       "    <tr>\n",
       "      <th>3</th>\n",
       "      <td>4</td>\n",
       "      <td>USW00003712</td>\n",
       "      <td>下载原因</td>\n",
       "      <td>未完成</td>\n",
       "    </tr>\n",
       "    <tr>\n",
       "      <th>4</th>\n",
       "      <td>5</td>\n",
       "      <td>USW00004862</td>\n",
       "      <td>下载原因</td>\n",
       "      <td>未完成</td>\n",
       "    </tr>\n",
       "    <tr>\n",
       "      <th>5</th>\n",
       "      <td>6</td>\n",
       "      <td>USW00024163</td>\n",
       "      <td>下载原因</td>\n",
       "      <td>未完成</td>\n",
       "    </tr>\n",
       "    <tr>\n",
       "      <th>6</th>\n",
       "      <td>7</td>\n",
       "      <td>USW00073805</td>\n",
       "      <td>下载原因</td>\n",
       "      <td>未完成</td>\n",
       "    </tr>\n",
       "    <tr>\n",
       "      <th>7</th>\n",
       "      <td>8</td>\n",
       "      <td>USW00003935</td>\n",
       "      <td>下载原因</td>\n",
       "      <td>未完成</td>\n",
       "    </tr>\n",
       "    <tr>\n",
       "      <th>8</th>\n",
       "      <td>9</td>\n",
       "      <td>USW00012917</td>\n",
       "      <td>下载原因</td>\n",
       "      <td>未完成</td>\n",
       "    </tr>\n",
       "  </tbody>\n",
       "</table>\n",
       "</div>"
      ],
      "text/plain": [
       "   Unnamed: 0   station_id    原因   处理\n",
       "0           1  USW00003856  下载原因  未完成\n",
       "1           2  USW00012984  下载原因  未完成\n",
       "2           3  USW00013866  下载原因  未完成\n",
       "3           4  USW00003712  下载原因  未完成\n",
       "4           5  USW00004862  下载原因  未完成\n",
       "5           6  USW00024163  下载原因  未完成\n",
       "6           7  USW00073805  下载原因  未完成\n",
       "7           8  USW00003935  下载原因  未完成\n",
       "8           9  USW00012917  下载原因  未完成"
      ]
     },
     "execution_count": 26,
     "metadata": {},
     "output_type": "execute_result"
    }
   ],
   "source": [
    "df_data"
   ]
  },
  {
   "cell_type": "code",
   "execution_count": 27,
   "id": "90beee4c-c413-462d-b321-1e719a1e101b",
   "metadata": {},
   "outputs": [],
   "source": [
    "#调整用\n",
    "for id in df_data['station_id']:\n",
    "    getdata(id, 2018)"
   ]
  },
  {
   "cell_type": "code",
   "execution_count": 33,
   "id": "10f0120f-22c5-4af1-97b3-f99a4bb9a593",
   "metadata": {},
   "outputs": [
    {
     "ename": "ChunkedEncodingError",
     "evalue": "(\"Connection broken: InvalidChunkLength(got length b'', 0 bytes read)\", InvalidChunkLength(got length b'', 0 bytes read))",
     "output_type": "error",
     "traceback": [
      "\u001b[1;31m---------------------------------------------------------------------------\u001b[0m",
      "\u001b[1;31mInvalidChunkLength\u001b[0m                        Traceback (most recent call last)",
      "File \u001b[1;32mE:\\Anaconda\\Lib\\site-packages\\urllib3\\response.py:710\u001b[0m, in \u001b[0;36mHTTPResponse._error_catcher\u001b[1;34m(self)\u001b[0m\n\u001b[0;32m    709\u001b[0m \u001b[38;5;28;01mtry\u001b[39;00m:\n\u001b[1;32m--> 710\u001b[0m     \u001b[38;5;28;01myield\u001b[39;00m\n\u001b[0;32m    712\u001b[0m \u001b[38;5;28;01mexcept\u001b[39;00m SocketTimeout \u001b[38;5;28;01mas\u001b[39;00m e:\n\u001b[0;32m    713\u001b[0m     \u001b[38;5;66;03m# FIXME: Ideally we'd like to include the url in the ReadTimeoutError but\u001b[39;00m\n\u001b[0;32m    714\u001b[0m     \u001b[38;5;66;03m# there is yet no clean way to get at it from this context.\u001b[39;00m\n",
      "File \u001b[1;32mE:\\Anaconda\\Lib\\site-packages\\urllib3\\response.py:1073\u001b[0m, in \u001b[0;36mHTTPResponse.read_chunked\u001b[1;34m(self, amt, decode_content)\u001b[0m\n\u001b[0;32m   1072\u001b[0m \u001b[38;5;28;01mwhile\u001b[39;00m \u001b[38;5;28;01mTrue\u001b[39;00m:\n\u001b[1;32m-> 1073\u001b[0m     \u001b[38;5;28mself\u001b[39m\u001b[38;5;241m.\u001b[39m_update_chunk_length()\n\u001b[0;32m   1074\u001b[0m     \u001b[38;5;28;01mif\u001b[39;00m \u001b[38;5;28mself\u001b[39m\u001b[38;5;241m.\u001b[39mchunk_left \u001b[38;5;241m==\u001b[39m \u001b[38;5;241m0\u001b[39m:\n",
      "File \u001b[1;32mE:\\Anaconda\\Lib\\site-packages\\urllib3\\response.py:1008\u001b[0m, in \u001b[0;36mHTTPResponse._update_chunk_length\u001b[1;34m(self)\u001b[0m\n\u001b[0;32m   1007\u001b[0m \u001b[38;5;28mself\u001b[39m\u001b[38;5;241m.\u001b[39mclose()\n\u001b[1;32m-> 1008\u001b[0m \u001b[38;5;28;01mraise\u001b[39;00m InvalidChunkLength(\u001b[38;5;28mself\u001b[39m, line) \u001b[38;5;28;01mfrom\u001b[39;00m \u001b[38;5;28;01mNone\u001b[39;00m\n",
      "\u001b[1;31mInvalidChunkLength\u001b[0m: InvalidChunkLength(got length b'', 0 bytes read)",
      "\nThe above exception was the direct cause of the following exception:\n",
      "\u001b[1;31mProtocolError\u001b[0m                             Traceback (most recent call last)",
      "File \u001b[1;32mE:\\Anaconda\\Lib\\site-packages\\requests\\models.py:816\u001b[0m, in \u001b[0;36mResponse.iter_content.<locals>.generate\u001b[1;34m()\u001b[0m\n\u001b[0;32m    815\u001b[0m \u001b[38;5;28;01mtry\u001b[39;00m:\n\u001b[1;32m--> 816\u001b[0m     \u001b[38;5;28;01myield from\u001b[39;00m \u001b[38;5;28mself\u001b[39m\u001b[38;5;241m.\u001b[39mraw\u001b[38;5;241m.\u001b[39mstream(chunk_size, decode_content\u001b[38;5;241m=\u001b[39m\u001b[38;5;28;01mTrue\u001b[39;00m)\n\u001b[0;32m    817\u001b[0m \u001b[38;5;28;01mexcept\u001b[39;00m ProtocolError \u001b[38;5;28;01mas\u001b[39;00m e:\n",
      "File \u001b[1;32mE:\\Anaconda\\Lib\\site-packages\\urllib3\\response.py:933\u001b[0m, in \u001b[0;36mHTTPResponse.stream\u001b[1;34m(self, amt, decode_content)\u001b[0m\n\u001b[0;32m    932\u001b[0m \u001b[38;5;28;01mif\u001b[39;00m \u001b[38;5;28mself\u001b[39m\u001b[38;5;241m.\u001b[39mchunked \u001b[38;5;129;01mand\u001b[39;00m \u001b[38;5;28mself\u001b[39m\u001b[38;5;241m.\u001b[39msupports_chunked_reads():\n\u001b[1;32m--> 933\u001b[0m     \u001b[38;5;28;01myield from\u001b[39;00m \u001b[38;5;28mself\u001b[39m\u001b[38;5;241m.\u001b[39mread_chunked(amt, decode_content\u001b[38;5;241m=\u001b[39mdecode_content)\n\u001b[0;32m    934\u001b[0m \u001b[38;5;28;01melse\u001b[39;00m:\n",
      "File \u001b[1;32mE:\\Anaconda\\Lib\\site-packages\\urllib3\\response.py:1061\u001b[0m, in \u001b[0;36mHTTPResponse.read_chunked\u001b[1;34m(self, amt, decode_content)\u001b[0m\n\u001b[0;32m   1056\u001b[0m     \u001b[38;5;28;01mraise\u001b[39;00m BodyNotHttplibCompatible(\n\u001b[0;32m   1057\u001b[0m         \u001b[38;5;124m\"\u001b[39m\u001b[38;5;124mBody should be http.client.HTTPResponse like. \u001b[39m\u001b[38;5;124m\"\u001b[39m\n\u001b[0;32m   1058\u001b[0m         \u001b[38;5;124m\"\u001b[39m\u001b[38;5;124mIt should have have an fp attribute which returns raw chunks.\u001b[39m\u001b[38;5;124m\"\u001b[39m\n\u001b[0;32m   1059\u001b[0m     )\n\u001b[1;32m-> 1061\u001b[0m \u001b[38;5;28;01mwith\u001b[39;00m \u001b[38;5;28mself\u001b[39m\u001b[38;5;241m.\u001b[39m_error_catcher():\n\u001b[0;32m   1062\u001b[0m     \u001b[38;5;66;03m# Don't bother reading the body of a HEAD request.\u001b[39;00m\n\u001b[0;32m   1063\u001b[0m     \u001b[38;5;28;01mif\u001b[39;00m \u001b[38;5;28mself\u001b[39m\u001b[38;5;241m.\u001b[39m_original_response \u001b[38;5;129;01mand\u001b[39;00m is_response_to_head(\u001b[38;5;28mself\u001b[39m\u001b[38;5;241m.\u001b[39m_original_response):\n",
      "File \u001b[1;32mE:\\Anaconda\\Lib\\contextlib.py:158\u001b[0m, in \u001b[0;36m_GeneratorContextManager.__exit__\u001b[1;34m(self, typ, value, traceback)\u001b[0m\n\u001b[0;32m    157\u001b[0m \u001b[38;5;28;01mtry\u001b[39;00m:\n\u001b[1;32m--> 158\u001b[0m     \u001b[38;5;28mself\u001b[39m\u001b[38;5;241m.\u001b[39mgen\u001b[38;5;241m.\u001b[39mthrow(typ, value, traceback)\n\u001b[0;32m    159\u001b[0m \u001b[38;5;28;01mexcept\u001b[39;00m \u001b[38;5;167;01mStopIteration\u001b[39;00m \u001b[38;5;28;01mas\u001b[39;00m exc:\n\u001b[0;32m    160\u001b[0m     \u001b[38;5;66;03m# Suppress StopIteration *unless* it's the same exception that\u001b[39;00m\n\u001b[0;32m    161\u001b[0m     \u001b[38;5;66;03m# was passed to throw().  This prevents a StopIteration\u001b[39;00m\n\u001b[0;32m    162\u001b[0m     \u001b[38;5;66;03m# raised inside the \"with\" statement from being suppressed.\u001b[39;00m\n",
      "File \u001b[1;32mE:\\Anaconda\\Lib\\site-packages\\urllib3\\response.py:727\u001b[0m, in \u001b[0;36mHTTPResponse._error_catcher\u001b[1;34m(self)\u001b[0m\n\u001b[0;32m    725\u001b[0m \u001b[38;5;28;01mexcept\u001b[39;00m (HTTPException, \u001b[38;5;167;01mOSError\u001b[39;00m) \u001b[38;5;28;01mas\u001b[39;00m e:\n\u001b[0;32m    726\u001b[0m     \u001b[38;5;66;03m# This includes IncompleteRead.\u001b[39;00m\n\u001b[1;32m--> 727\u001b[0m     \u001b[38;5;28;01mraise\u001b[39;00m ProtocolError(\u001b[38;5;124mf\u001b[39m\u001b[38;5;124m\"\u001b[39m\u001b[38;5;124mConnection broken: \u001b[39m\u001b[38;5;132;01m{\u001b[39;00me\u001b[38;5;132;01m!r}\u001b[39;00m\u001b[38;5;124m\"\u001b[39m, e) \u001b[38;5;28;01mfrom\u001b[39;00m \u001b[38;5;21;01me\u001b[39;00m\n\u001b[0;32m    729\u001b[0m \u001b[38;5;66;03m# If no exception is thrown, we should avoid cleaning up\u001b[39;00m\n\u001b[0;32m    730\u001b[0m \u001b[38;5;66;03m# unnecessarily.\u001b[39;00m\n",
      "\u001b[1;31mProtocolError\u001b[0m: (\"Connection broken: InvalidChunkLength(got length b'', 0 bytes read)\", InvalidChunkLength(got length b'', 0 bytes read))",
      "\nDuring handling of the above exception, another exception occurred:\n",
      "\u001b[1;31mChunkedEncodingError\u001b[0m                      Traceback (most recent call last)",
      "Cell \u001b[1;32mIn[33], line 1\u001b[0m\n\u001b[1;32m----> 1\u001b[0m getdata(\u001b[38;5;124m'\u001b[39m\u001b[38;5;124mUSW00025501\u001b[39m\u001b[38;5;124m'\u001b[39m,\u001b[38;5;241m2021\u001b[39m)\n",
      "Cell \u001b[1;32mIn[3], line 25\u001b[0m, in \u001b[0;36mgetdata\u001b[1;34m(stationid, year)\u001b[0m\n\u001b[0;32m      5\u001b[0m os\u001b[38;5;241m.\u001b[39mmakedirs(folder_name, exist_ok\u001b[38;5;241m=\u001b[39m\u001b[38;5;28;01mTrue\u001b[39;00m) \n\u001b[0;32m      7\u001b[0m url \u001b[38;5;241m=\u001b[39m \u001b[38;5;124mf\u001b[39m\u001b[38;5;124m'\u001b[39m\u001b[38;5;124mhttps://www.ncei.noaa.gov/access/services/data/v1?dataset=local-climatological-data-v2&dataTypes=HourlyDewPointTemperature\u001b[39m\u001b[38;5;124m'\u001b[39m \\\n\u001b[0;32m      8\u001b[0m       \u001b[38;5;124mf\u001b[39m\u001b[38;5;124m'\u001b[39m\u001b[38;5;124m&dataTypes=HourlyDryBulbTemperature\u001b[39m\u001b[38;5;124m'\u001b[39m \\\n\u001b[0;32m      9\u001b[0m       \u001b[38;5;124mf\u001b[39m\u001b[38;5;124m'\u001b[39m\u001b[38;5;124m&dataTypes=HourlyPrecipitation\u001b[39m\u001b[38;5;124m'\u001b[39m \\\n\u001b[1;32m   (...)\u001b[0m\n\u001b[0;32m     21\u001b[0m       \u001b[38;5;124mf\u001b[39m\u001b[38;5;124m'\u001b[39m\u001b[38;5;124m&dataTypes=HourlyWindSpeed\u001b[39m\u001b[38;5;124m'\u001b[39m \\\n\u001b[0;32m     22\u001b[0m       \u001b[38;5;124mf\u001b[39m\u001b[38;5;124m'\u001b[39m\u001b[38;5;124m&stations=\u001b[39m\u001b[38;5;132;01m{\u001b[39;00mstationid\u001b[38;5;132;01m}\u001b[39;00m\u001b[38;5;124m&startDate=\u001b[39m\u001b[38;5;132;01m{\u001b[39;00myear\u001b[38;5;132;01m}\u001b[39;00m\u001b[38;5;124m-11-01T00:00:00z&endDate=\u001b[39m\u001b[38;5;132;01m{\u001b[39;00myear\u001b[38;5;250m \u001b[39m\u001b[38;5;241m+\u001b[39m\u001b[38;5;250m \u001b[39m\u001b[38;5;241m1\u001b[39m\u001b[38;5;132;01m}\u001b[39;00m\u001b[38;5;124m-01-31T23:59:59z\u001b[39m\u001b[38;5;124m'\u001b[39m\n\u001b[1;32m---> 25\u001b[0m response \u001b[38;5;241m=\u001b[39m requests\u001b[38;5;241m.\u001b[39mget(url)\n\u001b[0;32m     26\u001b[0m \u001b[38;5;28;01mif\u001b[39;00m response\u001b[38;5;241m.\u001b[39mstatus_code\u001b[38;5;241m==\u001b[39m\u001b[38;5;241m200\u001b[39m:\n\u001b[0;32m     27\u001b[0m     file_path \u001b[38;5;241m=\u001b[39m os\u001b[38;5;241m.\u001b[39mpath\u001b[38;5;241m.\u001b[39mjoin(folder_name, \u001b[38;5;124mf\u001b[39m\u001b[38;5;124m\"\u001b[39m\u001b[38;5;132;01m{\u001b[39;00mstationid\u001b[38;5;132;01m}\u001b[39;00m\u001b[38;5;124m_\u001b[39m\u001b[38;5;132;01m{\u001b[39;00myear\u001b[38;5;132;01m}\u001b[39;00m\u001b[38;5;124m.csv\u001b[39m\u001b[38;5;124m\"\u001b[39m)\n",
      "File \u001b[1;32mE:\\Anaconda\\Lib\\site-packages\\requests\\api.py:73\u001b[0m, in \u001b[0;36mget\u001b[1;34m(url, params, **kwargs)\u001b[0m\n\u001b[0;32m     62\u001b[0m \u001b[38;5;28;01mdef\u001b[39;00m \u001b[38;5;21mget\u001b[39m(url, params\u001b[38;5;241m=\u001b[39m\u001b[38;5;28;01mNone\u001b[39;00m, \u001b[38;5;241m*\u001b[39m\u001b[38;5;241m*\u001b[39mkwargs):\n\u001b[0;32m     63\u001b[0m \u001b[38;5;250m    \u001b[39m\u001b[38;5;124mr\u001b[39m\u001b[38;5;124;03m\"\"\"Sends a GET request.\u001b[39;00m\n\u001b[0;32m     64\u001b[0m \n\u001b[0;32m     65\u001b[0m \u001b[38;5;124;03m    :param url: URL for the new :class:`Request` object.\u001b[39;00m\n\u001b[1;32m   (...)\u001b[0m\n\u001b[0;32m     70\u001b[0m \u001b[38;5;124;03m    :rtype: requests.Response\u001b[39;00m\n\u001b[0;32m     71\u001b[0m \u001b[38;5;124;03m    \"\"\"\u001b[39;00m\n\u001b[1;32m---> 73\u001b[0m     \u001b[38;5;28;01mreturn\u001b[39;00m request(\u001b[38;5;124m\"\u001b[39m\u001b[38;5;124mget\u001b[39m\u001b[38;5;124m\"\u001b[39m, url, params\u001b[38;5;241m=\u001b[39mparams, \u001b[38;5;241m*\u001b[39m\u001b[38;5;241m*\u001b[39mkwargs)\n",
      "File \u001b[1;32mE:\\Anaconda\\Lib\\site-packages\\requests\\api.py:59\u001b[0m, in \u001b[0;36mrequest\u001b[1;34m(method, url, **kwargs)\u001b[0m\n\u001b[0;32m     55\u001b[0m \u001b[38;5;66;03m# By using the 'with' statement we are sure the session is closed, thus we\u001b[39;00m\n\u001b[0;32m     56\u001b[0m \u001b[38;5;66;03m# avoid leaving sockets open which can trigger a ResourceWarning in some\u001b[39;00m\n\u001b[0;32m     57\u001b[0m \u001b[38;5;66;03m# cases, and look like a memory leak in others.\u001b[39;00m\n\u001b[0;32m     58\u001b[0m \u001b[38;5;28;01mwith\u001b[39;00m sessions\u001b[38;5;241m.\u001b[39mSession() \u001b[38;5;28;01mas\u001b[39;00m session:\n\u001b[1;32m---> 59\u001b[0m     \u001b[38;5;28;01mreturn\u001b[39;00m session\u001b[38;5;241m.\u001b[39mrequest(method\u001b[38;5;241m=\u001b[39mmethod, url\u001b[38;5;241m=\u001b[39murl, \u001b[38;5;241m*\u001b[39m\u001b[38;5;241m*\u001b[39mkwargs)\n",
      "File \u001b[1;32mE:\\Anaconda\\Lib\\site-packages\\requests\\sessions.py:589\u001b[0m, in \u001b[0;36mSession.request\u001b[1;34m(self, method, url, params, data, headers, cookies, files, auth, timeout, allow_redirects, proxies, hooks, stream, verify, cert, json)\u001b[0m\n\u001b[0;32m    584\u001b[0m send_kwargs \u001b[38;5;241m=\u001b[39m {\n\u001b[0;32m    585\u001b[0m     \u001b[38;5;124m\"\u001b[39m\u001b[38;5;124mtimeout\u001b[39m\u001b[38;5;124m\"\u001b[39m: timeout,\n\u001b[0;32m    586\u001b[0m     \u001b[38;5;124m\"\u001b[39m\u001b[38;5;124mallow_redirects\u001b[39m\u001b[38;5;124m\"\u001b[39m: allow_redirects,\n\u001b[0;32m    587\u001b[0m }\n\u001b[0;32m    588\u001b[0m send_kwargs\u001b[38;5;241m.\u001b[39mupdate(settings)\n\u001b[1;32m--> 589\u001b[0m resp \u001b[38;5;241m=\u001b[39m \u001b[38;5;28mself\u001b[39m\u001b[38;5;241m.\u001b[39msend(prep, \u001b[38;5;241m*\u001b[39m\u001b[38;5;241m*\u001b[39msend_kwargs)\n\u001b[0;32m    591\u001b[0m \u001b[38;5;28;01mreturn\u001b[39;00m resp\n",
      "File \u001b[1;32mE:\\Anaconda\\Lib\\site-packages\\requests\\sessions.py:747\u001b[0m, in \u001b[0;36mSession.send\u001b[1;34m(self, request, **kwargs)\u001b[0m\n\u001b[0;32m    744\u001b[0m         \u001b[38;5;28;01mpass\u001b[39;00m\n\u001b[0;32m    746\u001b[0m \u001b[38;5;28;01mif\u001b[39;00m \u001b[38;5;129;01mnot\u001b[39;00m stream:\n\u001b[1;32m--> 747\u001b[0m     r\u001b[38;5;241m.\u001b[39mcontent\n\u001b[0;32m    749\u001b[0m \u001b[38;5;28;01mreturn\u001b[39;00m r\n",
      "File \u001b[1;32mE:\\Anaconda\\Lib\\site-packages\\requests\\models.py:899\u001b[0m, in \u001b[0;36mResponse.content\u001b[1;34m(self)\u001b[0m\n\u001b[0;32m    897\u001b[0m         \u001b[38;5;28mself\u001b[39m\u001b[38;5;241m.\u001b[39m_content \u001b[38;5;241m=\u001b[39m \u001b[38;5;28;01mNone\u001b[39;00m\n\u001b[0;32m    898\u001b[0m     \u001b[38;5;28;01melse\u001b[39;00m:\n\u001b[1;32m--> 899\u001b[0m         \u001b[38;5;28mself\u001b[39m\u001b[38;5;241m.\u001b[39m_content \u001b[38;5;241m=\u001b[39m \u001b[38;5;124mb\u001b[39m\u001b[38;5;124m\"\u001b[39m\u001b[38;5;124m\"\u001b[39m\u001b[38;5;241m.\u001b[39mjoin(\u001b[38;5;28mself\u001b[39m\u001b[38;5;241m.\u001b[39miter_content(CONTENT_CHUNK_SIZE)) \u001b[38;5;129;01mor\u001b[39;00m \u001b[38;5;124mb\u001b[39m\u001b[38;5;124m\"\u001b[39m\u001b[38;5;124m\"\u001b[39m\n\u001b[0;32m    901\u001b[0m \u001b[38;5;28mself\u001b[39m\u001b[38;5;241m.\u001b[39m_content_consumed \u001b[38;5;241m=\u001b[39m \u001b[38;5;28;01mTrue\u001b[39;00m\n\u001b[0;32m    902\u001b[0m \u001b[38;5;66;03m# don't need to release the connection; that's been handled by urllib3\u001b[39;00m\n\u001b[0;32m    903\u001b[0m \u001b[38;5;66;03m# since we exhausted the data.\u001b[39;00m\n",
      "File \u001b[1;32mE:\\Anaconda\\Lib\\site-packages\\requests\\models.py:818\u001b[0m, in \u001b[0;36mResponse.iter_content.<locals>.generate\u001b[1;34m()\u001b[0m\n\u001b[0;32m    816\u001b[0m     \u001b[38;5;28;01myield from\u001b[39;00m \u001b[38;5;28mself\u001b[39m\u001b[38;5;241m.\u001b[39mraw\u001b[38;5;241m.\u001b[39mstream(chunk_size, decode_content\u001b[38;5;241m=\u001b[39m\u001b[38;5;28;01mTrue\u001b[39;00m)\n\u001b[0;32m    817\u001b[0m \u001b[38;5;28;01mexcept\u001b[39;00m ProtocolError \u001b[38;5;28;01mas\u001b[39;00m e:\n\u001b[1;32m--> 818\u001b[0m     \u001b[38;5;28;01mraise\u001b[39;00m ChunkedEncodingError(e)\n\u001b[0;32m    819\u001b[0m \u001b[38;5;28;01mexcept\u001b[39;00m DecodeError \u001b[38;5;28;01mas\u001b[39;00m e:\n\u001b[0;32m    820\u001b[0m     \u001b[38;5;28;01mraise\u001b[39;00m ContentDecodingError(e)\n",
      "\u001b[1;31mChunkedEncodingError\u001b[0m: (\"Connection broken: InvalidChunkLength(got length b'', 0 bytes read)\", InvalidChunkLength(got length b'', 0 bytes read))"
     ]
    }
   ],
   "source": [
    "getdata('USW00025501',2021)"
   ]
  },
  {
   "cell_type": "code",
   "execution_count": 30,
   "id": "37a8a56b-baa7-438f-b954-17436beb1799",
   "metadata": {},
   "outputs": [],
   "source": [
    "getdata('USW00027408',2021)"
   ]
  },
  {
   "cell_type": "code",
   "execution_count": 32,
   "id": "1540c5fe-eca6-4ee2-947e-5d577ed6863d",
   "metadata": {},
   "outputs": [],
   "source": [
    "getdata('USW00094928',2021)"
   ]
  },
  {
   "cell_type": "code",
   "execution_count": 17,
   "id": "4e588290-1a2b-4736-b49e-a1f62fe420c2",
   "metadata": {},
   "outputs": [
    {
     "name": "stdout",
     "output_type": "stream",
     "text": [
      "503 USW00012834\n",
      "503 USW00013748\n",
      "502 USW00094870\n",
      "503 USW00013839\n",
      "502 USW00025501\n",
      "503 USW00025338\n"
     ]
    }
   ],
   "source": [
    "for id in df['station_id']:\n",
    "    getdata(id, 2022)"
   ]
  },
  {
   "cell_type": "code",
   "execution_count": null,
   "id": "e1b22d71-61d7-4338-afb1-29c4b294b6ee",
   "metadata": {},
   "outputs": [],
   "source": [
    "for id in df['station_id'].unique():\n",
    "    getdata(id, 2021)"
   ]
  },
  {
   "cell_type": "code",
   "execution_count": 25,
   "id": "96b6e03c-2863-4d16-9029-29b9ca88be48",
   "metadata": {
    "scrolled": true
   },
   "outputs": [
    {
     "name": "stdout",
     "output_type": "stream",
     "text": [
      "503 USW00093232\n",
      "503 USW00053860\n",
      "503 USW00093225\n",
      "503 USW00013723\n",
      "503 USW00000349\n",
      "503 USW00024153\n",
      "503 USW00063837\n",
      "503 USW00003712\n",
      "503 USW00003945\n",
      "503 USW00003935\n",
      "503 USW00024028\n",
      "503 USW00025333\n",
      "503 USW00026615\n",
      "503 USW00025339\n",
      "503 USW00025338\n"
     ]
    }
   ],
   "source": [
    "for id in df['station_id'].unique():\n",
    "    getdata(id, 2020)"
   ]
  },
  {
   "cell_type": "code",
   "execution_count": 6,
   "id": "39ed1436-ba80-4c69-9e8e-7551a76712e4",
   "metadata": {},
   "outputs": [
    {
     "name": "stdout",
     "output_type": "stream",
     "text": [
      "503 USW00012918\n",
      "503 USW00004908\n",
      "503 USW00004919\n",
      "503 USW00023186\n",
      "503 USW00003712\n",
      "503 USW00094908\n",
      "503 USW00093075\n",
      "503 USW00053803\n",
      "503 USW00024243\n",
      "503 USW00025338\n",
      "503 USW00025624\n"
     ]
    }
   ],
   "source": [
    "for id in df['station_id'].unique():\n",
    "    getdata(id, 2019)"
   ]
  },
  {
   "cell_type": "code",
   "execution_count": 26,
   "id": "6e45a888-517b-4df5-88df-ce78e453e06e",
   "metadata": {},
   "outputs": [
    {
     "name": "stdout",
     "output_type": "stream",
     "text": [
      "503 USW00003856\n",
      "503 USW00012984\n",
      "503 USW00013866\n",
      "503 USW00003712\n",
      "503 USW00004862\n",
      "503 USW00024163\n",
      "503 USW00073805\n",
      "503 USW00003935\n",
      "503 USW00012917\n"
     ]
    }
   ],
   "source": [
    "for id in df['station_id'].unique():\n",
    "    getdata(id, 2018)"
   ]
  },
  {
   "cell_type": "code",
   "execution_count": 15,
   "id": "2a49b7a0-6aee-405e-aa23-83204105c580",
   "metadata": {},
   "outputs": [
    {
     "data": {
      "text/plain": [
       "array(['USW00023234', 'USW00014762', 'USW00093231', 'USW00022516',\n",
       "       'USW00054781', 'USW00022551', 'USW00093242', 'USW00023273',\n",
       "       'USW00054926', 'USW00000349', 'USW00004978', 'USW00000296',\n",
       "       'USW00003144', 'USW00024031', 'USW00014748', 'USW00054792',\n",
       "       'USW00014916', 'USW00003707', 'USW00003035', 'USW00093809',\n",
       "       'USW00094853', 'USW00064776', 'USW00026445'], dtype=object)"
      ]
     },
     "execution_count": 15,
     "metadata": {},
     "output_type": "execute_result"
    }
   ],
   "source": [
    "df_renew=pd.read_csv('renew_station.csv')\n",
    "df_renew['station_id_df2'].unique()"
   ]
  },
  {
   "cell_type": "code",
   "execution_count": 16,
   "id": "2533255e-156e-4113-aad9-9a83e835abc9",
   "metadata": {},
   "outputs": [],
   "source": [
    "for id in df_renew['station_id_df2'].unique()[18:23]:\n",
    "    getdata(id, 2023)"
   ]
  },
  {
   "cell_type": "code",
   "execution_count": 17,
   "id": "2cf86270-c85a-4caa-ae45-edd46bb46e61",
   "metadata": {},
   "outputs": [],
   "source": [
    "getdata('USW00003707', 2023)"
   ]
  },
  {
   "cell_type": "code",
   "execution_count": 18,
   "id": "affc3d1f-237c-4370-b722-b21241da4470",
   "metadata": {},
   "outputs": [
    {
     "name": "stdout",
     "output_type": "stream",
     "text": [
      "503 USW00014762\n"
     ]
    }
   ],
   "source": [
    "for id in df_renew['station_id_df2'].unique():\n",
    "    getdata(id, 2022)"
   ]
  },
  {
   "cell_type": "code",
   "execution_count": 20,
   "id": "d7300bc4-49b3-4b59-89c2-30c9dae5b2aa",
   "metadata": {},
   "outputs": [],
   "source": [
    "getdata('USW00014762', 2022)"
   ]
  },
  {
   "cell_type": "code",
   "execution_count": 21,
   "id": "5c8309f5-e73c-4743-a479-c1c7ac308245",
   "metadata": {},
   "outputs": [],
   "source": [
    "for id in df_renew['station_id_df2'].unique():\n",
    "    getdata(id, 2021)"
   ]
  },
  {
   "cell_type": "code",
   "execution_count": 22,
   "id": "f05fcb3c-d39b-4512-bf88-041a6c62c7bf",
   "metadata": {},
   "outputs": [
    {
     "name": "stdout",
     "output_type": "stream",
     "text": [
      "503 USW00023234\n"
     ]
    }
   ],
   "source": [
    "for id in df_renew['station_id_df2'].unique():\n",
    "    getdata(id, 2020)"
   ]
  },
  {
   "cell_type": "code",
   "execution_count": 23,
   "id": "9a2aab17-ae5a-4677-8075-426132886a7b",
   "metadata": {},
   "outputs": [],
   "source": [
    "getdata('USW00023234', 2020)"
   ]
  },
  {
   "cell_type": "code",
   "execution_count": 24,
   "id": "968aba6f-d530-45e5-8fc8-aa85586a02b9",
   "metadata": {},
   "outputs": [
    {
     "name": "stdout",
     "output_type": "stream",
     "text": [
      "503 USW00093231\n"
     ]
    }
   ],
   "source": [
    "for id in df_renew['station_id_df2'].unique():\n",
    "    getdata(id, 2019)"
   ]
  },
  {
   "cell_type": "code",
   "execution_count": 26,
   "id": "11a8c785-b0dc-466c-af3a-36591fac4028",
   "metadata": {},
   "outputs": [],
   "source": [
    "getdata('USW00093231', 2019)"
   ]
  },
  {
   "cell_type": "code",
   "execution_count": 27,
   "id": "888d8a3d-46fe-4b01-902a-f30f79fe1262",
   "metadata": {},
   "outputs": [
    {
     "name": "stdout",
     "output_type": "stream",
     "text": [
      "503 USW00022516\n",
      "503 USW00003035\n"
     ]
    }
   ],
   "source": [
    "for id in df_renew['station_id_df2'].unique():\n",
    "    getdata(id, 2018)"
   ]
  },
  {
   "cell_type": "code",
   "execution_count": 28,
   "id": "1ce7dc21-8f70-4141-a893-7b5758588ecd",
   "metadata": {},
   "outputs": [],
   "source": [
    "getdata('USW00022516', 2018)"
   ]
  },
  {
   "cell_type": "code",
   "execution_count": 29,
   "id": "801fe847-a744-46ce-b26c-d7322ac6ab20",
   "metadata": {},
   "outputs": [],
   "source": [
    "getdata('USW00003035', 2018)"
   ]
  },
  {
   "cell_type": "code",
   "execution_count": 32,
   "id": "98426a85-ca5c-4898-88b9-11b51c3131f6",
   "metadata": {},
   "outputs": [],
   "source": [
    "new=['USW00024057','USW00004912', 'USW00025323']"
   ]
  },
  {
   "cell_type": "code",
   "execution_count": 49,
   "id": "9469ccc4-8eb4-4f03-b813-376483ce26cc",
   "metadata": {},
   "outputs": [],
   "source": [
    "for id in new:\n",
    "    getdata(id, 2022)"
   ]
  },
  {
   "cell_type": "code",
   "execution_count": 41,
   "id": "401dd268-07a1-4856-a3aa-9f68e6fdde41",
   "metadata": {},
   "outputs": [],
   "source": [
    "getdata('USW00024031', 2018)"
   ]
  },
  {
   "cell_type": "code",
   "execution_count": 48,
   "id": "2dac8057-a86a-4396-b1e0-29f2176f56db",
   "metadata": {},
   "outputs": [],
   "source": [
    "for id in new:\n",
    "    getdata(id, 2023)"
   ]
  },
  {
   "cell_type": "code",
   "execution_count": 46,
   "id": "2702812c-1c0f-401f-8370-897ef83fc8b3",
   "metadata": {},
   "outputs": [
    {
     "name": "stdout",
     "output_type": "stream",
     "text": [
      "503 USW00025323\n"
     ]
    }
   ],
   "source": [
    "for id in new:\n",
    "    getdata(id, 2020)"
   ]
  },
  {
   "cell_type": "code",
   "execution_count": 45,
   "id": "2a73bed7-c6ff-494e-947c-db088eceee0a",
   "metadata": {},
   "outputs": [],
   "source": [
    "for id in new:\n",
    "    getdata(id, 2019)"
   ]
  },
  {
   "cell_type": "code",
   "execution_count": 44,
   "id": "fff9ec9d-a7ff-44da-92f3-cfaabbcdc6ad",
   "metadata": {},
   "outputs": [],
   "source": [
    "for id in new:\n",
    "    getdata(id, 2018)"
   ]
  },
  {
   "cell_type": "code",
   "execution_count": null,
   "id": "7c3b0cce-efeb-420d-b2a9-fe56aa38593a",
   "metadata": {},
   "outputs": [],
   "source": []
  }
 ],
 "metadata": {
  "kernelspec": {
   "display_name": "Python 3 (ipykernel)",
   "language": "python",
   "name": "python3"
  },
  "language_info": {
   "codemirror_mode": {
    "name": "ipython",
    "version": 3
   },
   "file_extension": ".py",
   "mimetype": "text/x-python",
   "name": "python",
   "nbconvert_exporter": "python",
   "pygments_lexer": "ipython3",
   "version": "3.11.7"
  }
 },
 "nbformat": 4,
 "nbformat_minor": 5
}
